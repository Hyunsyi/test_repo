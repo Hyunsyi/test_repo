{
  "nbformat": 4,
  "nbformat_minor": 0,
  "metadata": {
    "colab": {
      "provenance": [],
      "include_colab_link": true
    },
    "kernelspec": {
      "name": "python3",
      "display_name": "Python 3"
    },
    "language_info": {
      "name": "python"
    }
  },
  "cells": [
    {
      "cell_type": "markdown",
      "metadata": {
        "id": "view-in-github",
        "colab_type": "text"
      },
      "source": [
        "<a href=\"https://colab.research.google.com/github/Hyunsyi/test_repo/blob/master/OATutor_Quick_Deploy_%2B_Content_Notebook.ipynb\" target=\"_parent\"><img src=\"https://colab.research.google.com/assets/colab-badge.svg\" alt=\"Open In Colab\"/></a>"
      ]
    },
    {
      "cell_type": "markdown",
      "source": [
        "# OATutor Custom Content Quick Deploy\n",
        "[codebase](https://github.com/CAHLR/OATutor) - [paper](https://doi.org/10.1145/3544548.3581574)\n",
        "\n"
      ],
      "metadata": {
        "id": "t5YpRN9wqQUg"
      }
    },
    {
      "cell_type": "markdown",
      "source": [
        "This notebook walks through the necessary terminal commands to process content and deploy OATutor. These commands are run on colab's underlying VM but can be run on any system supporting npm. Alternatively, the platform can be forked and deployed using git-pages (e.g., [https://cahlr.github.io/OATutor](https://cahlr.github.io/OATutor)).\n",
        "\n",
        "NOTE: A limitation of this colab approach is that the frontend will only run while this notebook session is active."
      ],
      "metadata": {
        "id": "G5Nq5e4BqUNe"
      }
    },
    {
      "cell_type": "markdown",
      "source": [
        "## Install nodeJS"
      ],
      "metadata": {
        "id": "6yaWQpyUqtNB"
      }
    },
    {
      "cell_type": "code",
      "execution_count": null,
      "metadata": {
        "id": "pWeJHfdijePJ"
      },
      "outputs": [],
      "source": [
        "!sudo apt install curl\n",
        "!curl https://raw.githubusercontent.com/creationix/nvm/master/install.sh | bash"
      ]
    },
    {
      "cell_type": "markdown",
      "source": [
        "## Clone the git repo"
      ],
      "metadata": {
        "id": "S-daoHQ4qxrn"
      }
    },
    {
      "cell_type": "code",
      "source": [
        "!git clone https://github.com/CAHLR/OATutor.git\n",
        "!git clone https://github.com/CAHLR/OATutor-Tooling.git\n",
        "%cd OATutor\n",
        "# Recursive packages clone flag will require ssh as required in https://github.com/CAHLR/OATutor/blob/main/.gitmodules\n",
        "# Workaround is to manually set the submodule url to be the https url and then pull from it\n",
        "!git submodule set-url \"src/content-sources/oatutor\" https://github.com/CAHLR/OATutor-Content\n",
        "!git submodule init\n",
        "!git submodule update"
      ],
      "metadata": {
        "id": "O0fW8P6mkZ4o"
      },
      "execution_count": null,
      "outputs": []
    },
    {
      "cell_type": "markdown",
      "source": [
        "## Process Content\n",
        "\n",
        "### Install required libraries"
      ],
      "metadata": {
        "id": "HnFyl7bJ4WWq"
      }
    },
    {
      "cell_type": "code",
      "source": [
        "%cd ../OATutor-Tooling/content_script\n",
        "!pip install -r requirements.txt"
      ],
      "metadata": {
        "id": "hlq7TSEa4mcj"
      },
      "execution_count": null,
      "outputs": []
    },
    {
      "cell_type": "markdown",
      "source": [
        "### Prepare Excel Content Sheet"
      ],
      "metadata": {
        "id": "VDOdvigm5Spu"
      }
    },
    {
      "cell_type": "code",
      "source": [
        "# This cell creates a Content directory under OATutor-Tooling\n",
        "%cd ..\n",
        "%mkdir Content"
      ],
      "metadata": {
        "id": "TOJ0KnBn8S0o"
      },
      "execution_count": null,
      "outputs": []
    },
    {
      "cell_type": "markdown",
      "source": [
        "Upload \"OpenStax_ College Algebra (Sample).xlsx\" to OATutor-Tooling/Content/."
      ],
      "metadata": {
        "id": "2QOf1Z2g8trw"
      }
    },
    {
      "cell_type": "markdown",
      "source": [
        "Upload \"Problem Bank URL.xlsx\" to OATutor-Tooling/Content/."
      ],
      "metadata": {
        "id": "U8V6NqctGfx_"
      }
    },
    {
      "cell_type": "markdown",
      "source": [
        "### Run content script"
      ],
      "metadata": {
        "id": "Vzy8jX5C_qOU"
      }
    },
    {
      "cell_type": "code",
      "source": [
        "%cd content_script"
      ],
      "metadata": {
        "colab": {
          "base_uri": "https://localhost:8080/"
        },
        "id": "kalSGCm_nLiZ",
        "outputId": "47a4ff8f-c924-49c6-b540-90c73e0158bd"
      },
      "execution_count": null,
      "outputs": [
        {
          "output_type": "stream",
          "name": "stdout",
          "text": [
            "/content/OATutor-Tooling/content_script\n"
          ]
        }
      ]
    },
    {
      "cell_type": "code",
      "source": [
        "# This converts one content sheet at a time\n",
        "!python3 process_sheet.py local \"../Content/OpenStax_ College Algebra (Sample).xlsx\" \"1.1 Real Numbers\""
      ],
      "metadata": {
        "id": "U3ZmRkP9_xwh"
      },
      "execution_count": null,
      "outputs": []
    },
    {
      "cell_type": "markdown",
      "source": [
        "At this point, you should see OATutor-Tooling/OpenStax1/ directory, and a list of problem folders inside OpenStax1/. Each problem folder correspond to one problem in 1.1 Real Numbers. Note: you might need to refresh the directory.\n"
      ],
      "metadata": {
        "id": "zl9Smy7OBIC-"
      }
    },
    {
      "cell_type": "code",
      "source": [
        "# This converts content from all three sheets\n",
        "!python3 final.py local \"../Content/Problem Bank URL.xlsx\""
      ],
      "metadata": {
        "id": "8oSh9iEbDQTg"
      },
      "execution_count": null,
      "outputs": []
    },
    {
      "cell_type": "markdown",
      "source": [
        "After the command runs, you should see the JSON content file structure under OATutor-Tooling/OpenStax Content/, as well as `coursePlans.json`, `bktParams.json`, and `skillModel.json` under OATutor-Tooling/. Note: again, you might need to refresh the directory."
      ],
      "metadata": {
        "id": "6APsrfmDHEHQ"
      }
    },
    {
      "cell_type": "markdown",
      "source": [
        "### Deploy Locally"
      ],
      "metadata": {
        "id": "uzC7MYWuwRSd"
      }
    },
    {
      "cell_type": "markdown",
      "source": [
        "Copy content pool and config files from OATutor-Tooling to OATutor."
      ],
      "metadata": {
        "id": "AaDkyV7w5vah"
      }
    },
    {
      "cell_type": "code",
      "source": [
        "%cd /content/OATutor\n",
        "%ls\n",
        "# remove old content pool\n",
        "%rm -rf src/content-sources/oatutor/content-pool\n",
        "\n",
        "# copy content pool\n",
        "%cp -a \"../OATutor-Tooling/OpenStax Content\" src/content-sources/oatutor/content-pool\n",
        "\n",
        "# copy config files\n",
        "%cp ../OATutor-Tooling/bktParams.json src/content-sources/oatutor\n",
        "%cp ../OATutor-Tooling/coursePlans.json src/content-sources/oatutor\n",
        "%cp ../OATutor-Tooling/skillModel.json src/content-sources/oatutor\n",
        "%rm src/content-sources/oatutor/bkt-params/*.json\n",
        "%mv src/content-sources/oatutor/bktParams.json src/content-sources/oatutor/bkt-params/bktParams1.json\n",
        "%cp src/content-sources/oatutor/bkt-params/bktParams1.json src/content-sources/oatutor/bkt-params/bktParams2.json\n",
        "\n",
        "# preprocess content\n",
        "%cd src/tools\n",
        "!node preprocessProblemPool.js\n",
        "%cd ../.."
      ],
      "metadata": {
        "id": "-RAZkOECtPUu"
      },
      "execution_count": null,
      "outputs": []
    },
    {
      "cell_type": "markdown",
      "source": [
        "## Install OATutor node dependencies"
      ],
      "metadata": {
        "id": "av04LHsDq4po"
      }
    },
    {
      "cell_type": "code",
      "source": [
        "!npm install"
      ],
      "metadata": {
        "id": "y6Ylhh_kmiby"
      },
      "execution_count": null,
      "outputs": []
    },
    {
      "cell_type": "markdown",
      "source": [
        "## Deploy"
      ],
      "metadata": {
        "id": "unwozSQqqO8K"
      }
    },
    {
      "cell_type": "code",
      "source": [
        "# This command runs the frontend server in the background\n",
        "!while true; do npm run start >frontend-log.txt 2>&1; sleep 5; done >/dev/null 2>&1 &"
      ],
      "metadata": {
        "id": "kx9hELuKnzcQ"
      },
      "execution_count": null,
      "outputs": []
    },
    {
      "cell_type": "markdown",
      "source": [
        "#### The below cell will contain debug logs of the frontend, re-run the cell to fetch the latest logs"
      ],
      "metadata": {
        "id": "GUcAH_aa4He1"
      }
    },
    {
      "cell_type": "code",
      "source": [
        "!cat frontend-log.txt"
      ],
      "metadata": {
        "id": "dEWTP1k1n7iA"
      },
      "execution_count": null,
      "outputs": []
    },
    {
      "cell_type": "markdown",
      "source": [
        "## Set up localtunnel to access Colab web server"
      ],
      "metadata": {
        "id": "M2c3KnSuq8fN"
      }
    },
    {
      "cell_type": "code",
      "source": [
        "!npm install -g localtunnel"
      ],
      "metadata": {
        "id": "toWxZNqDnNmR"
      },
      "execution_count": null,
      "outputs": []
    },
    {
      "cell_type": "code",
      "source": [
        "# This command runs the local tunnel port forwarding in the background\n",
        "!while true; do nohup lt --port 3001 >url.txt 2>&1; sleep 5; done >/dev/null 2>&1 &"
      ],
      "metadata": {
        "id": "vTi9Yvi6pDLH"
      },
      "execution_count": null,
      "outputs": []
    },
    {
      "cell_type": "markdown",
      "source": [
        "#### Get URL to frontend. Re-run to view latest logs from runtime."
      ],
      "metadata": {
        "id": "n8v6zZuo4OUM"
      }
    },
    {
      "cell_type": "code",
      "source": [
        "!cat url.txt"
      ],
      "metadata": {
        "id": "xb5nxjcWoM6n"
      },
      "execution_count": null,
      "outputs": []
    },
    {
      "cell_type": "markdown",
      "source": [
        "#### Get the IP address of the Colab VM that the above URL will ask for"
      ],
      "metadata": {
        "id": "J1pzP2Jb_J9K"
      }
    },
    {
      "cell_type": "code",
      "source": [
        "!curl ipv4.icanhazip.com"
      ],
      "metadata": {
        "id": "uhzg2gZoxPp-"
      },
      "execution_count": null,
      "outputs": []
    }
  ]
}